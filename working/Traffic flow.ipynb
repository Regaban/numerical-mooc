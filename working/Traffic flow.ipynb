{
 "cells": [
  {
   "cell_type": "markdown",
   "metadata": {},
   "source": [
    "# Coding assignement : Traffic flow"
   ]
  },
  {
   "cell_type": "markdown",
   "metadata": {},
   "source": [
    "L'énoncé nous donne une équation pouvant décrire la vitesse des voitures sur une autoroute en fonction de la densité du trafic (nombre de voitures par unité de longueur) :\n",
    "\n",
    "$$V=V_{max}\\left(1-\\frac{\\rho}{\\rho_{max}}\\right)~~~~~~~(1)$$\n",
    "\n",
    "où: $V~\\text{est la vitesse des voitures à un endroit donné}\\\\\n",
    "\\rho~\\text{est la densité du trafic à cet endroit}\\\\\n",
    "V_{max}~\\text{est la vitesse maximale que peuvent atteindre les voitures (lorsque la densité tend vers 0)}\\\\\n",
    "\\rho_{max}~\\text{est la densité maximale de trafic (lorsque la vitesse tend vers 0)}$\n",
    "  \n",
    "On peut alors définir le flux\n",
    "$$F=V\\rho=V_{max}\\rho\\left(1-\\frac{\\rho}{\\rho_{max}}\\right)~~~~~~~(2)$$\n",
    "\n",
    "Un flux de trafic instable pouvant être modélisé comme la convection non linéaire de la densité de voitures, nous pouvons écrire\n",
    "\n",
    "$$\\frac{\\delta \\rho}{\\delta t}+\\frac{\\delta F}{\\delta \\rho}\\frac{\\delta \\rho}{\\delta x}=0$$\n",
    "\n",
    "ou, avec la méthode de la chaîne: \n",
    "$$\\frac{\\delta \\rho}{\\delta t}+\\frac{\\delta F}{\\delta x}=0$$\n",
    "\n",
    "Cette deuxième équation fonctionne mieux numériquement pour notre situation car elle permet de conserver la densité."
   ]
  },
  {
   "cell_type": "markdown",
   "metadata": {},
   "source": [
    "Nous allons discrétiser l'équation en utilisant la méthode \"forward-difference\" en le temps et la \"backward-difference\" en l'espace.\n",
    "$$\\rho_i^{n+1}=\\rho_i^{n}-\\frac{\\Delta t}{\\Delta x}(F_i^{n}-F_{i-1}^{n})~~~~~~~(3)$$\n",
    "où $F$ est une fonction de $\\rho$. Nous ferons en sorte que celle-ci soit calculée a chaque étape par le programme"
   ]
  },
  {
   "cell_type": "markdown",
   "metadata": {},
   "source": [
    "Ensuite nous entrons dans le code les valeurs constantes livrées par l'énoncé, en gardant les unités proposées que nous changerons plus tard en unités du système international."
   ]
  },
  {
   "cell_type": "code",
   "execution_count": 50,
   "metadata": {
    "collapsed": false
   },
   "outputs": [],
   "source": [
    "V_max = 80 # (km/h) La vitesse maximale atteinte par les voitures lorsque la densité tend vers 0\n",
    "L = 11 # (km) La longueur du tronçon étudié\n",
    "rho_max = 250 # (voitures/km) Le nombre maximum de voitures pouvant se trouver sur une portion d'1km\n",
    "nx = 51 # On divise le tronçon en 51 morceaux\n",
    "dt = .001 # (s) Le pas utilisé dans la discrétisation temporelle\n",
    "dx = L/(nx-1) # (km) La longueur d'un pas dans la discrétisation spatiale"
   ]
  },
  {
   "cell_type": "markdown",
   "metadata": {},
   "source": [
    "Et nous importons quelques packages qui nous seront utiles plus tard"
   ]
  },
  {
   "cell_type": "code",
   "execution_count": 51,
   "metadata": {
    "collapsed": true
   },
   "outputs": [],
   "source": [
    "import numpy\n",
    "from matplotlib import pyplot\n",
    "%matplotlib inline\n",
    "from matplotlib import rcParams\n",
    "rcParams['font.family'] = 'serif'\n",
    "rcParams['font.size'] = 16"
   ]
  },
  {
   "cell_type": "markdown",
   "metadata": {},
   "source": [
    "Nous créons d'ores et déjà trois tableaux, respectivement pour l'espace, le flux et la vitesse des voitures. Tous ceux-ci ayant une dimension de 51, pour représenter leurs valeurs sur les 11 km par pas de $\\frac{L}{nx-1}=0,22$ km"
   ]
  },
  {
   "cell_type": "code",
   "execution_count": 52,
   "metadata": {
    "collapsed": false
   },
   "outputs": [],
   "source": [
    "x = numpy.linspace(0,L,nx) # Crée un tableau de nx (= 51) éléments dont le premier est 0 et le dernier L (= 11) avec\n",
    "                           # un pas régulier de L/nx.\n",
    "F=numpy.ones(nx)\n",
    "v=numpy.ones(nx)"
   ]
  },
  {
   "cell_type": "markdown",
   "metadata": {},
   "source": [
    "## SIMULATION RESULTS: PART A"
   ]
  },
  {
   "cell_type": "markdown",
   "metadata": {},
   "source": [
    "Tout d'abord, implentons les conditions initiales sur la densité de traffic données par l'énoncé"
   ]
  },
  {
   "cell_type": "code",
   "execution_count": 53,
   "metadata": {
    "collapsed": true
   },
   "outputs": [],
   "source": [
    "rho = numpy.ones(nx)*10 # Crée un tableau de nx (= 51) éléments qui valent tous 1*10 = 10.\n",
    "rho[10:20] = 50 # Les 11ème à 20ème éléments prennent la valeur 50"
   ]
  },
  {
   "cell_type": "code",
   "execution_count": 54,
   "metadata": {
    "collapsed": false
   },
   "outputs": [
    {
     "data": {
      "image/png": "[encoded data removed]",
      "text/plain": [
       "<matplotlib.figure.Figure at 0x7f2e0e38d240>"
      ]
     },
     "metadata": {},
     "output_type": "display_data"
    }
   ],
   "source": [
    "pyplot.plot(x, rho, color='#003366', ls='--', lw=3)\n",
    "pyplot.ylim(0,60);"
   ]
  },
  {
   "cell_type": "markdown",
   "metadata": {},
   "source": [
    "NB:\n",
    "\n",
    "-Remarquons que nous avons décidé d'appeler dirrectement \"rho\" le tableau contenant les valeurs de $\\rho(x,0)$ \n",
    "\n",
    "\n",
    "-Une des conditions a respecter est que $\\rho(0,t)=10$, on se rendra vite compte que cette condition sera automatiquement respectée dès lors que nous discrétiserons l'équation différentielle présentée dans l'introduction."
   ]
  },
  {
   "cell_type": "markdown",
   "metadata": {},
   "source": [
    "### Question 1\n",
    "\"Enter the *minimum* velocity at time t = 0 in meters per second. Round to 2 decimal places\""
   ]
  },
  {
   "cell_type": "markdown",
   "metadata": {},
   "source": [
    "Ayant les valeurs de $\\rho$ partout dans l'espace discrétisé, la relation $(1)$ nous permet de directement calculer la vitesse des voitures en tout point où $\\rho$ est défini, comme suit :"
   ]
  },
  {
   "cell_type": "code",
   "execution_count": 55,
   "metadata": {
    "collapsed": false
   },
   "outputs": [],
   "source": [
    "for n in range(nx):\n",
    "    v[n]=V_max*(1-rho[n]/rho_max)/3.6"
   ]
  },
  {
   "cell_type": "code",
   "execution_count": 56,
   "metadata": {
    "collapsed": false
   },
   "outputs": [
    {
     "data": {
      "image/png": "[encoded data removed]",
      "text/plain": [
       "<matplotlib.figure.Figure at 0x7f2e15b3e320>"
      ]
     },
     "metadata": {},
     "output_type": "display_data"
    }
   ],
   "source": [
    "pyplot.plot(x, v, color='#003366', ls='--', lw=3)\n",
    "pyplot.ylim(15,25);"
   ]
  },
  {
   "cell_type": "markdown",
   "metadata": {},
   "source": [
    "On remarque que la discontinuité des $\\rho$ à bien été reproduite dans les valeurs de $V$ commme on pouvait s'y attendre. Remarquons que nous avons divisé la vitesse par 3.6 dans la boucle dans le but de l'avoir dans les unités internationales (m/s)."
   ]
  },
  {
   "cell_type": "markdown",
   "metadata": {},
   "source": [
    "Maintenant nous pouvons utiliser la commande $min()$ pour extraire directement le minimum de notre tableau."
   ]
  },
  {
   "cell_type": "code",
   "execution_count": 57,
   "metadata": {
    "collapsed": false
   },
   "outputs": [
    {
     "name": "stdout",
     "output_type": "stream",
     "text": [
      "La plus petite vitesse initiale est de 17.7777777778 m/s.\n"
     ]
    }
   ],
   "source": [
    "print(\"La plus petite vitesse initiale est de\", min(v), \"m/s.\")"
   ]
  },
  {
   "cell_type": "markdown",
   "metadata": {},
   "source": [
    "### Question 2\n",
    "\"Enter the average velocity at time t = 3 minutes in meters per second. Round to 2 decimal places\""
   ]
  },
  {
   "cell_type": "markdown",
   "metadata": {},
   "source": [
    "L'algorithme se déroule ici de la manière suivante : sur base de $\\rho_i^n$, nous pouvons calculer en chaque point de l'espace discrétisé la valeur de $F_i^n$, qui sera donc utilisée pour calculer $\\rho_i^{n+1}$ en vertu de la relation $(3)$.\n",
    "\n",
    "Remarquons que 3 minutes correspondent à 0,05 heures, or le pas temporel de notre discrétisation étant de 0,001 heures, il est clair que pour obtenir la valeur de la densité du traffic après 3 minutes, nous devrons répéter cet l'algorithme 50 fois."
   ]
  },
  {
   "cell_type": "code",
   "execution_count": 58,
   "metadata": {
    "collapsed": false
   },
   "outputs": [],
   "source": [
    "F[0]=V_max*rho[0]*(1-rho[0]/rho_max) # Expliqué après.\n",
    "\n",
    "for n in range(50):\n",
    "    for i in range(1,nx): \n",
    "        F[i] = V_max*rho[i]*(1-rho[i]/rho_max) # Par (2).\n",
    "        rho[i]=rho[i]-dt/dx*(F[i]-F[i-1]) # Par (3)."
   ]
  },
  {
   "cell_type": "code",
   "execution_count": 59,
   "metadata": {
    "collapsed": false
   },
   "outputs": [
    {
     "data": {
      "image/png": "[encoded data removed]",
      "text/plain": [
       "<matplotlib.figure.Figure at 0x7f2e0e452860>"
      ]
     },
     "metadata": {},
     "output_type": "display_data"
    }
   ],
   "source": [
    "pyplot.plot(x, rho, color='#003366', ls='--', lw=3)\n",
    "pyplot.ylim(5,50);"
   ]
  },
  {
   "cell_type": "markdown",
   "metadata": {},
   "source": [
    "NB:\n",
    "l'algorithme ci-dessus ne change pas les valeurs des tableaux pour $x=0$. En conséquence, la condition $\\rho(0,t)=10$ sera maintenue et donc respectée, comme nous pouvons l'observer sur le graphique. Par contre, $F$ ayant été créé initialement comme un tableau rempli de la valeur \"1\", la valeur de $F_0$ sera 1 a la fin de l'algorithme, celle-ci n'ayant bien sur aucun sens ! Il est donc important d'initialiser celle-ci, la valeur $F_0^0$ étant utilisée pour calculer $\\rho_1^1$, comme il a été fait a la première ligne.\n",
    "\n",
    "La partie de code suivante calcule la vitesse en tout point de l'espace discrétisé en m/s en t = 3min. Ceci nécéssitant de recalculer F en t = 3min, et d'utiliser la relation (2) (avec toujours ce facteur 3.6, nécessaire pour avoir les vitesses dans les bonnes unités)."
   ]
  },
  {
   "cell_type": "code",
   "execution_count": 60,
   "metadata": {
    "collapsed": false
   },
   "outputs": [],
   "source": [
    "for i in range(nx): \n",
    "        v[i] = V_max*rho[i]*(1-rho[i]/rho_max)/rho[i]/3.6"
   ]
  },
  {
   "cell_type": "code",
   "execution_count": 61,
   "metadata": {
    "collapsed": false
   },
   "outputs": [
    {
     "data": {
      "image/png": "[encoded data removed]",
      "text/plain": [
       "<matplotlib.figure.Figure at 0x7f2e17e8e7b8>"
      ]
     },
     "metadata": {},
     "output_type": "display_data"
    }
   ],
   "source": [
    "pyplot.plot(x, v, color='#003366', ls='--', lw=3)\n",
    "pyplot.ylim(15,25);"
   ]
  },
  {
   "cell_type": "markdown",
   "metadata": {},
   "source": [
    "Ensuite nous créons un algorithme simple renvoyant la valeur moyenne d'un tableau, le tableau étant en l'occurrence celui des vitesses en fonction de l'espace."
   ]
  },
  {
   "cell_type": "code",
   "execution_count": 62,
   "metadata": {
    "collapsed": false
   },
   "outputs": [
    {
     "name": "stdout",
     "output_type": "stream",
     "text": [
      "La vitesse moyenne après 3 minutes vaut 20.6361661961 m/s.\n"
     ]
    }
   ],
   "source": [
    "v_moyenne=0\n",
    "\n",
    "for n in range(nx):  \n",
    "    vp=v[n]\n",
    "    v_moyenne=v_moyenne+vp\n",
    "    \n",
    "v_moyenne=v_moyenne/51\n",
    "\n",
    "print(\"La vitesse moyenne après 3 minutes vaut\", v_moyenne, \"m/s.\")"
   ]
  },
  {
   "cell_type": "markdown",
   "metadata": {},
   "source": [
    "### Question 3\n",
    "\"Enter the *minimum* velocity at time t = 6 minutes in meters per second. Round to 2 decimal places\"\n"
   ]
  },
  {
   "cell_type": "markdown",
   "metadata": {},
   "source": [
    "L'énoncé ayant changé, réinitialisons les valeurs de $\\rho$."
   ]
  },
  {
   "cell_type": "code",
   "execution_count": 63,
   "metadata": {
    "collapsed": true
   },
   "outputs": [],
   "source": [
    "rho = numpy.ones(nx)*10 \n",
    "rho[10:20] = 50 "
   ]
  },
  {
   "cell_type": "markdown",
   "metadata": {},
   "source": [
    "Ensuite nous reproduisons l'algorithme de la question précédente 2 fois (en passant de 50 à 100 pas temporels pour avoir les valeurs en t = 6min). Le code de calcul de la vitesse est exactement le même. Cet algorithme nous donne donc directement un résultat :"
   ]
  },
  {
   "cell_type": "code",
   "execution_count": 64,
   "metadata": {
    "collapsed": false
   },
   "outputs": [],
   "source": [
    "F[0]=V_max*rho[0]*(1-rho[0]/rho_max) \n",
    "\n",
    "for n in range(100):\n",
    "    for i in range(1,nx): \n",
    "        F[i] = V_max*rho[i]*(1-rho[i]/rho_max)\n",
    "        rho[i]=rho[i]-dt/dx*(F[i]-F[i-1])"
   ]
  },
  {
   "cell_type": "code",
   "execution_count": 67,
   "metadata": {
    "collapsed": false
   },
   "outputs": [
    {
     "data": {
      "image/png": "[encoded data removed]",
      "text/plain": [
       "<matplotlib.figure.Figure at 0x7f2e15aa0908>"
      ]
     },
     "metadata": {},
     "output_type": "display_data"
    }
   ],
   "source": [
    "pyplot.plot(x, rho, color='#003366', ls='--', lw=3)\n",
    "pyplot.ylim(5,45);"
   ]
  },
  {
   "cell_type": "code",
   "execution_count": 68,
   "metadata": {
    "collapsed": true
   },
   "outputs": [],
   "source": [
    "for i in range(nx): \n",
    "    v[i] = V_max*rho[i]*(1-rho[i]/rho_max)/rho[i]/3.6"
   ]
  },
  {
   "cell_type": "code",
   "execution_count": 70,
   "metadata": {
    "collapsed": false
   },
   "outputs": [
    {
     "data": {
      "image/png": "[encoded data removed]",
      "text/plain": [
       "<matplotlib.figure.Figure at 0x7f2e0e2479b0>"
      ]
     },
     "metadata": {},
     "output_type": "display_data"
    }
   ],
   "source": [
    "pyplot.plot(x, v, color='#003366', ls='--', lw=3)\n",
    "pyplot.ylim(15,25);"
   ]
  },
  {
   "cell_type": "code",
   "execution_count": 71,
   "metadata": {
    "collapsed": false
   },
   "outputs": [
    {
     "name": "stdout",
     "output_type": "stream",
     "text": [
      "La vitesse minimale après 3 minutes vaut 18.7847168709 m/s.\n"
     ]
    }
   ],
   "source": [
    "print(\"La vitesse minimale après 3 minutes vaut\", min(v), \"m/s.\")"
   ]
  },
  {
   "cell_type": "markdown",
   "metadata": {},
   "source": [
    "## SIMULATION RESULTS: PART B"
   ]
  },
  {
   "cell_type": "markdown",
   "metadata": {},
   "source": [
    "Nous commençons par implémenter les nouvelles conditions initiales"
   ]
  },
  {
   "cell_type": "code",
   "execution_count": 72,
   "metadata": {
    "collapsed": true
   },
   "outputs": [],
   "source": [
    "V_max = 136 # (km/h)\n",
    "x = numpy.linspace(0,L,nx)\n",
    "rho = numpy.ones(nx)*20 \n",
    "rho[10:20] = 50"
   ]
  },
  {
   "cell_type": "markdown",
   "metadata": {},
   "source": [
    "Les algorithmes de cette partie étant exactement les mêmes que ceux des questions précédentes, nous nous permettons de rendre le code un peu  plus compact et de ne pas réexpliquer les étapes dejà expliquées précédemment."
   ]
  },
  {
   "cell_type": "markdown",
   "metadata": {},
   "source": [
    "### Question 1\n",
    "\"Enter the *minimum* velocity at time t = 0 in meters per second. Round to 2 decimal places\""
   ]
  },
  {
   "cell_type": "code",
   "execution_count": 77,
   "metadata": {
    "collapsed": false
   },
   "outputs": [],
   "source": [
    "for n in range(nx):\n",
    "    v[n]=V_max*(1-rho[n]/rho_max)/3.6"
   ]
  },
  {
   "cell_type": "code",
   "execution_count": 78,
   "metadata": {
    "collapsed": false
   },
   "outputs": [
    {
     "data": {
      "image/png": "[encoded data removed]",
      "text/plain": [
       "<matplotlib.figure.Figure at 0x7f2e15b3ec50>"
      ]
     },
     "metadata": {},
     "output_type": "display_data"
    }
   ],
   "source": [
    "pyplot.plot(x, v, color='#003366', ls='--', lw=3)\n",
    "pyplot.ylim(25,40);"
   ]
  },
  {
   "cell_type": "code",
   "execution_count": 79,
   "metadata": {
    "collapsed": false
   },
   "outputs": [
    {
     "name": "stdout",
     "output_type": "stream",
     "text": [
      "La vitesse minimale à l'instant initial vaut 30.2222222222 m/s.\n"
     ]
    }
   ],
   "source": [
    "print(\"La vitesse minimale à l'instant initial vaut\", min(v), \"m/s.\")"
   ]
  },
  {
   "cell_type": "markdown",
   "metadata": {},
   "source": [
    "### Question 2\n",
    "\"Enter the average velocity at time t = 3 minutes in meters per second. Round to 2 decimal places\""
   ]
  },
  {
   "cell_type": "code",
   "execution_count": 80,
   "metadata": {
    "collapsed": false
   },
   "outputs": [],
   "source": [
    "F[0]=V_max*rho[0]*(1-rho[0]/rho_max)\n",
    "\n",
    "for n in range(50):\n",
    "    for i in range(1,nx): \n",
    "        F[i] = V_max*rho[i]*(1-rho[i]/rho_max)\n",
    "        rho[i]=rho[i]-dt/dx*(F[i]-F[i-1])"
   ]
  },
  {
   "cell_type": "code",
   "execution_count": 83,
   "metadata": {
    "collapsed": false
   },
   "outputs": [
    {
     "data": {
      "image/png": "[encoded data removed]",
      "text/plain": [
       "<matplotlib.figure.Figure at 0x7f2e0e3e5748>"
      ]
     },
     "metadata": {},
     "output_type": "display_data"
    }
   ],
   "source": [
    "pyplot.plot(x, rho, color='#003366', ls='--', lw=3)\n",
    "pyplot.ylim(15,50);"
   ]
  },
  {
   "cell_type": "code",
   "execution_count": 85,
   "metadata": {
    "collapsed": true
   },
   "outputs": [],
   "source": [
    "for i in range(nx): \n",
    "    v[i] = V_max*rho[i]*(1-rho[i]/rho_max)/rho[i]/3.6"
   ]
  },
  {
   "cell_type": "code",
   "execution_count": 87,
   "metadata": {
    "collapsed": false
   },
   "outputs": [
    {
     "data": {
      "image/png": "[encoded data removed]",
      "text/plain": [
       "<matplotlib.figure.Figure at 0x7f2e0e2eed68>"
      ]
     },
     "metadata": {},
     "output_type": "display_data"
    }
   ],
   "source": [
    "pyplot.plot(x, v, color='#003366', ls='--', lw=3)\n",
    "pyplot.ylim(25,40);"
   ]
  },
  {
   "cell_type": "code",
   "execution_count": 88,
   "metadata": {
    "collapsed": false
   },
   "outputs": [
    {
     "name": "stdout",
     "output_type": "stream",
     "text": [
      "La vitesse moyenne après 3 minutes est de  33.872218191 m/s.\n"
     ]
    }
   ],
   "source": [
    "v_moyenne=0\n",
    "\n",
    "for n in range(nx):  \n",
    "    vp=v[n]\n",
    "    v_moyenne=v_moyenne+vp\n",
    "    \n",
    "v_moyenne=v_moyenne/51 \n",
    "\n",
    "print(\"La vitesse moyenne après 3 minutes est de \", v_moyenne, \"m/s.\")"
   ]
  },
  {
   "cell_type": "markdown",
   "metadata": {},
   "source": [
    "### Question 3\n",
    "\"Enter the *minimum* velocity at time t = 3 minutes in meters per second. Round to 2 decimal places\""
   ]
  },
  {
   "cell_type": "markdown",
   "metadata": {},
   "source": [
    "La question correspondant à la vitesse minimale en t = 3 minutes, il suffit simplement de faire un print du minimum du tabeau v de la question précédente."
   ]
  },
  {
   "cell_type": "code",
   "execution_count": 89,
   "metadata": {
    "collapsed": false
   },
   "outputs": [
    {
     "name": "stdout",
     "output_type": "stream",
     "text": [
      "La vitesse minimale après 3 minutes est de 30.9864026806 m/s.\n"
     ]
    }
   ],
   "source": [
    "print(\"La vitesse minimale après 3 minutes est de\", min(v), \"m/s.\")"
   ]
  }
 ],
 "metadata": {
  "anaconda-cloud": {},
  "kernelspec": {
   "display_name": "Python [Root]",
   "language": "python",
   "name": "Python [Root]"
  },
  "language_info": {
   "codemirror_mode": {
    "name": "ipython",
    "version": 3
   },
   "file_extension": ".py",
   "mimetype": "text/x-python",
   "name": "python",
   "nbconvert_exporter": "python",
   "pygments_lexer": "ipython3",
   "version": "3.4.5"
  }
 },
 "nbformat": 4,
 "nbformat_minor": 0
}
