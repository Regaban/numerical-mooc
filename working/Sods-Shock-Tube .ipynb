{
 "cells": [
  {
   "cell_type": "markdown",
   "metadata": {},
   "source": [
    "# Sod's Shock tube"
   ]
  },
  {
   "cell_type": "markdown",
   "metadata": {},
   "source": [
    "## Introduction\n",
    "Dans ce projet, nous allons résoudre les équations aux dérivées partielles couplées suivantes :\n",
    "\n",
    "$$\\frac{\\delta}{\\delta t}\\underline{u}+\\frac{\\delta}{\\delta x}\\underline{f}=0$$\n",
    "\n",
    "Où\n",
    "$$\n",
    "\\underline{u}=\n",
    "\\left[\n",
    "\\begin{align*}\n",
    "\\rho\\\\\n",
    "\\rho u\\\\\n",
    "\\rho e_T\n",
    "\\end{align*}\n",
    "\\right]\n",
    "$$\n",
    "  Et\n",
    "$$\n",
    "\\underline{f}=\n",
    "\\left[\n",
    "\\begin{align*}\n",
    "\\rho u\\\\\n",
    "\\rho u^2+p\\\\\n",
    "(\\rho e_T+p)u\\\\\n",
    "\\end{align*}\n",
    "\\right]\n",
    "$$ \n",
    "où $p=(\\gamma-1)\\left(u_3-\\frac{1}{2}\\frac{u_2^2}{u_1}\\right)$\n",
    "et $e_T=\\frac{p}{(\\gamma-1)\\rho}+\\frac{1}{2}u^2$,\n",
    "les $u_i (i=1,2,3)$ étant les composantes du vecteur\n",
    "$\\underline{u}$"
   ]
  },
  {
   "cell_type": "markdown",
   "metadata": {},
   "source": [
    "## Analyse numérique - \"Richtmyer method\""
   ]
  },
  {
   "cell_type": "markdown",
   "metadata": {},
   "source": [
    "Commençons par importer les packages habituels, numpy pour certaines fonctions mathématiques et mathplotlib pour les représentions graphiques."
   ]
  },
  {
   "cell_type": "code",
   "execution_count": 1,
   "metadata": {
    "collapsed": true
   },
   "outputs": [],
   "source": [
    "import numpy                       \n",
    "from matplotlib import pyplot                 \n",
    "%matplotlib inline\n",
    "from matplotlib import rcParams\n",
    "rcParams['font.family'] = 'serif'\n",
    "rcParams['font.size'] = 16"
   ]
  },
  {
   "cell_type": "markdown",
   "metadata": {},
   "source": [
    "Ici nous insérons certains paramètres du code donnés dans l'énoncé :"
   ]
  },
  {
   "cell_type": "code",
   "execution_count": 2,
   "metadata": {
    "collapsed": true
   },
   "outputs": [],
   "source": [
    "nx=81         # Nombre de points dans l'espace discrétisé pour aller de -10m à 10m\n",
    "dx=0.25       # (m) Distance entre deux points de l'espace discrétisé \n",
    "dt=.0002      # (s) Écart temporel entre deux points du temps discrétisé\n",
    "T=.01         # (s) Temps total d'observation du phénomène\n",
    "nt=int(T/dt)  # Il faudra en tout (T/dt)=50 pas de 0.0002 s pour en arriver à 0,01 s\n",
    "gamma=1.4     # Indice adiabatique de l'air"
   ]
  },
  {
   "cell_type": "markdown",
   "metadata": {},
   "source": [
    "Créons d'ores et déjà un tableau de l'espace discrétisé. Celui-ci ira de -10m à 10m et contiendra 2nx-1=161 valeurs."
   ]
  },
  {
   "cell_type": "markdown",
   "metadata": {},
   "source": [
    "Effectivement, nous avons décidé de diviser chaque pas par 2 pour y faire apparaître les valeurs \"i +/- 1/2\" présentes dans l'algorithme de Richtmyer. Ainsi nous avons nx valeurs qui se rajoutent et le pas vaut 0,125 (comme on l'observe bien sur le \"print\" suivant). On comprendra par la suite que cela ne change rien à la valeur \"dx\" de l'algorithme, et notons que d'autres méthodes pourraient ne pas utiliser cet artifice."
   ]
  },
  {
   "cell_type": "code",
   "execution_count": 3,
   "metadata": {
    "collapsed": false
   },
   "outputs": [
    {
     "name": "stdout",
     "output_type": "stream",
     "text": [
      "[-10.     -9.875  -9.75   -9.625  -9.5    -9.375  -9.25   -9.125  -9.\n",
      "  -8.875  -8.75   -8.625  -8.5    -8.375  -8.25   -8.125  -8.     -7.875\n",
      "  -7.75   -7.625  -7.5    -7.375  -7.25   -7.125  -7.     -6.875  -6.75\n",
      "  -6.625  -6.5    -6.375  -6.25   -6.125  -6.     -5.875  -5.75   -5.625\n",
      "  -5.5    -5.375  -5.25   -5.125  -5.     -4.875  -4.75   -4.625  -4.5\n",
      "  -4.375  -4.25   -4.125  -4.     -3.875  -3.75   -3.625  -3.5    -3.375\n",
      "  -3.25   -3.125  -3.     -2.875  -2.75   -2.625  -2.5    -2.375  -2.25\n",
      "  -2.125  -2.     -1.875  -1.75   -1.625  -1.5    -1.375  -1.25   -1.125\n",
      "  -1.     -0.875  -0.75   -0.625  -0.5    -0.375  -0.25   -0.125   0.\n",
      "   0.125   0.25    0.375   0.5     0.625   0.75    0.875   1.      1.125\n",
      "   1.25    1.375   1.5     1.625   1.75    1.875   2.      2.125   2.25\n",
      "   2.375   2.5     2.625   2.75    2.875   3.      3.125   3.25    3.375\n",
      "   3.5     3.625   3.75    3.875   4.      4.125   4.25    4.375   4.5\n",
      "   4.625   4.75    4.875   5.      5.125   5.25    5.375   5.5     5.625\n",
      "   5.75    5.875   6.      6.125   6.25    6.375   6.5     6.625   6.75\n",
      "   6.875   7.      7.125   7.25    7.375   7.5     7.625   7.75    7.875\n",
      "   8.      8.125   8.25    8.375   8.5     8.625   8.75    8.875   9.\n",
      "   9.125   9.25    9.375   9.5     9.625   9.75    9.875  10.   ]\n"
     ]
    }
   ],
   "source": [
    "x=numpy.linspace(-10,10,2*nx-1)\n",
    "print(x)"
   ]
  },
  {
   "cell_type": "markdown",
   "metadata": {},
   "source": [
    "Ensuite nous créons trois matrices contenant trois lignes et 161 colonnes, $I$ pour les conditions initiales, $U$ qui contiendra les valeurs de $\\underline{u}$ et F les valeurs de $\\underline{f}$."
   ]
  },
  {
   "cell_type": "code",
   "execution_count": 4,
   "metadata": {
    "collapsed": true
   },
   "outputs": [],
   "source": [
    "I=numpy.zeros((3,2*nx-1))\n",
    "U=numpy.zeros((3,2*nx-1))\n",
    "F=numpy.zeros((3,2*nx-1))"
   ]
  },
  {
   "cell_type": "markdown",
   "metadata": {},
   "source": [
    "Implémentons donc les valeurs initiales données dans l'énoncé. Nous joignons à cela une représentation graphique des conditions initiales données."
   ]
  },
  {
   "cell_type": "code",
   "execution_count": 5,
   "metadata": {
    "collapsed": false
   },
   "outputs": [],
   "source": [
    "for i in range(3):\n",
    "    if i==0:\n",
    "        h=1\n",
    "        k=.125\n",
    "    elif i==1:\n",
    "        h=0\n",
    "        k=0\n",
    "    else:\n",
    "        h=100000    # Les pressions sont directement implémentées dans les unités du SI (N/m²)\n",
    "        k=10000\n",
    "    for j in range(int((2*nx-2)/2)+1):\n",
    "        I[i,j]=h\n",
    "        I[i,int(2*nx-2)-j]=k #int() a été rajouté car les indices doivent être entiers et python considérant\n",
    "                             #l'expression comme un réel, un message d'erreur apparaîtrait          "
   ]
  },
  {
   "cell_type": "code",
   "execution_count": 6,
   "metadata": {
    "collapsed": false
   },
   "outputs": [
    {
     "data": {
      "text/plain": [
       "<matplotlib.text.Text at 0x7fb009b5c1d0>"
      ]
     },
     "execution_count": 6,
     "metadata": {},
     "output_type": "execute_result"
    },
    {
     "data": {
      "image/png": "[encoded data removed]",
      "text/plain": [
       "<matplotlib.figure.Figure at 0x7fb008c0beb8>"
      ]
     },
     "metadata": {},
     "output_type": "display_data"
    }
   ],
   "source": [
    "pyplot.plot(x, I[0,], color='#003366', ls='--', lw=3)\n",
    "pyplot.ylim(0,1.5)\n",
    "pyplot.xlabel('x(m)', fontsize=16) \n",
    "pyplot.ylabel('densité[kg/m³]', fontsize=16)"
   ]
  },
  {
   "cell_type": "code",
   "execution_count": 7,
   "metadata": {
    "collapsed": false
   },
   "outputs": [
    {
     "data": {
      "text/plain": [
       "<matplotlib.text.Text at 0x7fb008c920b8>"
      ]
     },
     "execution_count": 7,
     "metadata": {},
     "output_type": "execute_result"
    },
    {
     "data": {
      "image/png": "[encoded data removed]",
      "text/plain": [
       "<matplotlib.figure.Figure at 0x7fb008c6d588>"
      ]
     },
     "metadata": {},
     "output_type": "display_data"
    }
   ],
   "source": [
    "pyplot.plot(x, I[1,], color='#003366', ls='--', lw=3)\n",
    "pyplot.ylim(-0.05,1) # -0.05 par souci de visibilité\n",
    "pyplot.xlabel('x(m)', fontsize=16)\n",
    "pyplot.ylabel('u[m/s]', fontsize=16)"
   ]
  },
  {
   "cell_type": "code",
   "execution_count": 8,
   "metadata": {
    "collapsed": false
   },
   "outputs": [
    {
     "data": {
      "text/plain": [
       "<matplotlib.text.Text at 0x7fb0086c7eb8>"
      ]
     },
     "execution_count": 8,
     "metadata": {},
     "output_type": "execute_result"
    },
    {
     "data": {
      "image/png": "[encoded data removed]",
      "text/plain": [
       "<matplotlib.figure.Figure at 0x7fb008beae80>"
      ]
     },
     "metadata": {},
     "output_type": "display_data"
    }
   ],
   "source": [
    "pyplot.plot(x, I[2,], color='#003366', ls='--', lw=3)\n",
    "pyplot.ylim(0,110000)\n",
    "pyplot.xlabel('x(m)', fontsize=16)  #x label\n",
    "pyplot.ylabel('p[N/m²]', fontsize=16)"
   ]
  },
  {
   "cell_type": "markdown",
   "metadata": {},
   "source": [
    "Les conditions initiales nous permettent d'initialiser $U$ :"
   ]
  },
  {
   "cell_type": "code",
   "execution_count": 9,
   "metadata": {
    "collapsed": true
   },
   "outputs": [],
   "source": [
    "for i in range(3):\n",
    "        for j in range(2*nx-1):\n",
    "            if i==0:\n",
    "                U[i,j]=I[i,j]\n",
    "            if i==1:\n",
    "                U[i,j]=I[i-1,j]*I[i,j]\n",
    "            if i==2:\n",
    "                U[i,j]=I[i-2,j]*((I[i,j]/((gamma-1)*I[i-2,j]))+0.5*(I[i-1,j]**2))"
   ]
  },
  {
   "cell_type": "markdown",
   "metadata": {},
   "source": [
    "Et $F$, par les relations suivantes liant les composantes de $\\underline{f}$ à celles de $\\underline{u}$ (données dans les rappels théoriques) :\n",
    "\n",
    "$$\n",
    "\\underline{f}=\n",
    "\\left[\n",
    "\\begin{align*}\n",
    "u_2\\\\\n",
    "\\frac{u_2^2}{u_1}+(\\gamma-1)\\left(u_3-\\frac{1}{2}\\frac{u_2^2}{u_1}\\right)\\\\\n",
    "\\left(u_3+(\\gamma-1)\\left(u_3-\\frac{1}{2}\\frac{u_2^2}{u_1}\\right)\\right)\\frac{u_2}{u_1}\\\\\n",
    "\\end{align*}\n",
    "\\right]\n",
    "$$ \n"
   ]
  },
  {
   "cell_type": "code",
   "execution_count": 10,
   "metadata": {
    "collapsed": true
   },
   "outputs": [],
   "source": [
    "for i in range(3):\n",
    "        for j in range(2*nx-1):\n",
    "            if i==0:\n",
    "                F[i,j]=U[i+1,j]\n",
    "            if i==1:\n",
    "                F[i,j]=(U[i,j]**2/U[i-1,j])+(gamma-1)*(U[i+1,j]-0.5*(U[i,j]**2/U[i-1,j]))\n",
    "            if i==2:\n",
    "                F[i,j]=(U[i,j]+(gamma-1)*(U[i,j]-0.5*(U[i-1,j]**2/U[i-2,j])))*(U[i-1,j]/U[i-2,j])"
   ]
  },
  {
   "cell_type": "markdown",
   "metadata": {},
   "source": [
    "Notons bien que étant donné que, de manière générale, $F_i=F_i(u_1,u_2,u_3)$, nous ne pouvons guère les créer \"en même temps\", sans quoi les $F_i$ prendraient des valeurs erronées. (*)"
   ]
  },
  {
   "cell_type": "markdown",
   "metadata": {},
   "source": [
    "Ensuite nous appliquons la méthode de Richtmyer, décrite dans l'énoncé :\n",
    "$$\\underline{u}^{n+\\frac{1}{2}}_{i+\\frac{1}{2}}=\\frac{1}{2}(\\underline{u}^{n}_{i+1}+\\underline{u}^{n}_{i})-\\frac{\\Delta t}{2\\Delta x}(\\underline{f}^{n}_{i+1}-\\underline{f}^{n}_{i})$$\n",
    "$$\\underline{u}^{n+1}_{i}=\\underline{u}^{n}_{i}-\\frac{\\Delta t}{\\Delta x}(\\underline{f}^{n+\\frac{1}{2}}_{i+\\frac{1}{2}}-\\underline{u}^{n+\\frac{1}{2}}_{i-\\frac{1}{2}})$$"
   ]
  },
  {
   "cell_type": "code",
   "execution_count": 11,
   "metadata": {
    "collapsed": false
   },
   "outputs": [],
   "source": [
    "for n in range(nt): # On applique l'algorithme nt=50 fois pour arriver au temps voulu\n",
    "    for i in range(3): # Chaque ligne de la matrice doit être changée\n",
    "        for j in range(0,2*nx-2,2): \n",
    "            U[i,j+1]=(0.5*(U[i,j+2]+U[i,j]))-(dt/(2*dx))*(F[i,j+2]-F[i,j])\n",
    "    \n",
    "    for i in range(3):    \n",
    "        for j in range(0,2*nx-2,2):    \n",
    "            if i==0:\n",
    "                F[i,j+1]=U[i+1,j+1]\n",
    "            if i==1:\n",
    "                F[i,j+1]=(U[i,j+1]**2/U[i-1,j+1])+(gamma-1)*(U[i+1,j+1]-0.5*(U[i,j+1]**2/U[i-1,j+1]))\n",
    "            if i==2:\n",
    "                F[i,j+1]=(U[i,j+1]+(gamma-1)*(U[i,j+1]-0.5*(U[i-1,j+1]**2/U[i-2,j+1])))*(U[i-1,j+1]/U[i-2,j+1])\n",
    "    \n",
    "    for i in range(3):\n",
    "        for j in range(2,2*nx-2,2):\n",
    "            U[i,j]=U[i,j]-(dt/dx)*(F[i,j+1]-F[i,j-1])\n",
    "        \n",
    "    for i in range(3):\n",
    "        for j in range(0,2*nx,2):    \n",
    "            if i==0:\n",
    "                F[i,j]=U[i+1,j]\n",
    "            if i==1:\n",
    "                F[i,j]=(U[i,j]**2/U[i-1,j])+(gamma-1)*(U[i+1,j]-0.5*(U[i,j]**2/U[i-1,j]))\n",
    "            if i==2:\n",
    "                F[i,j]=(U[i,j]+(gamma-1)*(U[i,j]-0.5*(U[i-1,j]**2/U[i-2,j])))*(U[i-1,j]/U[i-2,j])\n",
    "    "
   ]
  },
  {
   "cell_type": "markdown",
   "metadata": {},
   "source": [
    "NB: Premièrement, la remarque (*) est aussi applicable dans ce cas. Ensuite, on remarque que le pas des boucles est ici de 2, ce qui est nécessaire car les valeurs \"i +/- $\\frac{1}{2}$\" sont intrinsèques à nos tableaux !\n"
   ]
  },
  {
   "cell_type": "markdown",
   "metadata": {},
   "source": [
    "## Simulation results"
   ]
  },
  {
   "cell_type": "markdown",
   "metadata": {},
   "source": [
    "Toutes les réponses seront ici calculées en $t=0.01s$."
   ]
  },
  {
   "cell_type": "markdown",
   "metadata": {},
   "source": [
    "Toutes les questions étant ici demandées e $x=2.5m$, nous commençons par créer une fonction qui nous renverra l'indice de la colonne contenant les données en $x=2.5m$."
   ]
  },
  {
   "cell_type": "code",
   "execution_count": 12,
   "metadata": {
    "collapsed": true
   },
   "outputs": [],
   "source": [
    "def NT(t): \n",
    "    t2=t+10\n",
    "    t3=int(t2/0.125)\n",
    "    return t3"
   ]
  },
  {
   "cell_type": "markdown",
   "metadata": {},
   "source": [
    "Nous joindrons à chaque réponse un graphique qui représentera la variable en fonction de l'espace discrétisé, pour voir comment celles-ci ont évolué par rapport aux conditions initiales."
   ]
  },
  {
   "cell_type": "markdown",
   "metadata": {},
   "source": [
    "### Question 1\n",
    "\"Enter the velocity at $x=2.5m$ in $m/s$.\""
   ]
  },
  {
   "cell_type": "markdown",
   "metadata": {},
   "source": [
    "En vertu des relations données dans l'introduction, on a $u=u_2/u_1$."
   ]
  },
  {
   "cell_type": "code",
   "execution_count": 13,
   "metadata": {
    "collapsed": false
   },
   "outputs": [
    {
     "name": "stdout",
     "output_type": "stream",
     "text": [
      "La vitesse vaut 292.611471527 m/s.\n"
     ]
    }
   ],
   "source": [
    "u=U[1,NT(2.5)]/U[0,NT(2.5)]\n",
    "print(\"La vitesse vaut\", u,\"m/s.\")"
   ]
  },
  {
   "cell_type": "code",
   "execution_count": 14,
   "metadata": {
    "collapsed": false
   },
   "outputs": [
    {
     "data": {
      "text/plain": [
       "<matplotlib.text.Text at 0x7fb0081a0d30>"
      ]
     },
     "execution_count": 14,
     "metadata": {},
     "output_type": "execute_result"
    },
    {
     "data": {
      "image/png": "[encoded data removed]",
      "text/plain": [
       "<matplotlib.figure.Figure at 0x7fb00817fb38>"
      ]
     },
     "metadata": {},
     "output_type": "display_data"
    }
   ],
   "source": [
    "u2=U[1,]/U[0,]\n",
    "pyplot.plot(x, u2, color='#003366', ls='--', lw=3)\n",
    "pyplot.ylim(0,500)\n",
    "pyplot.xlabel('x', fontsize=16)  #x label\n",
    "pyplot.ylabel('u[m/s]', fontsize=16) "
   ]
  },
  {
   "cell_type": "markdown",
   "metadata": {},
   "source": [
    "### Question 2\n",
    "\"Enter the pressure at $x=2.5$ in $N/m^2$.\"\n"
   ]
  },
  {
   "cell_type": "markdown",
   "metadata": {},
   "source": [
    "En vertu des relations données dans l'introduction, on a $p=\\frac{\\underline f_3}{u}-\\rho e_T=\\frac{\\underline f_3}{u}-u_3$."
   ]
  },
  {
   "cell_type": "code",
   "execution_count": 15,
   "metadata": {
    "collapsed": false
   },
   "outputs": [
    {
     "name": "stdout",
     "output_type": "stream",
     "text": [
      "La pression vaut 30250.8901676 N/m².\n"
     ]
    }
   ],
   "source": [
    "p=(F[2,NT(2.5)]/u)-U[2,NT(2.5)]\n",
    "print(\"La pression vaut\", p,\"N/m².\")"
   ]
  },
  {
   "cell_type": "code",
   "execution_count": 16,
   "metadata": {
    "collapsed": false
   },
   "outputs": [
    {
     "data": {
      "text/plain": [
       "<matplotlib.text.Text at 0x7fb0080c89b0>"
      ]
     },
     "execution_count": 16,
     "metadata": {},
     "output_type": "execute_result"
    },
    {
     "data": {
      "image/png": "[encoded data removed]",
      "text/plain": [
       "<matplotlib.figure.Figure at 0x7fb00813b1d0>"
      ]
     },
     "metadata": {},
     "output_type": "display_data"
    }
   ],
   "source": [
    "p2=(F[2,]/u)-U[2,]\n",
    "pyplot.plot(x, p2, color='#003366', ls='--', lw=3)\n",
    "pyplot.ylim(-260000,70000);\n",
    "pyplot.xlabel('x', fontsize=16)  #x label\n",
    "pyplot.ylabel('p[N/m²]', fontsize=16) "
   ]
  },
  {
   "cell_type": "markdown",
   "metadata": {},
   "source": [
    "### Question 3\n",
    "\"Enter the density at $x=2.5m$ in $kg/m^3$.\"\n"
   ]
  },
  {
   "cell_type": "markdown",
   "metadata": {},
   "source": [
    "La densité est directement données dans la ligne $u_1$."
   ]
  },
  {
   "cell_type": "code",
   "execution_count": 17,
   "metadata": {
    "collapsed": false
   },
   "outputs": [
    {
     "name": "stdout",
     "output_type": "stream",
     "text": [
      "La densité vaut 0.374691402648 kg/m³.\n"
     ]
    }
   ],
   "source": [
    "rho=U[0,NT(2.5)]\n",
    "print(\"La densité vaut\", rho,\"kg/m³.\")"
   ]
  },
  {
   "cell_type": "code",
   "execution_count": 19,
   "metadata": {
    "collapsed": false
   },
   "outputs": [
    {
     "data": {
      "text/plain": [
       "<matplotlib.text.Text at 0x7faffb5fb080>"
      ]
     },
     "execution_count": 19,
     "metadata": {},
     "output_type": "execute_result"
    },
    {
     "data": {
      "image/png": "[encoded data removed]",
      "text/plain": [
       "<matplotlib.figure.Figure at 0x7fb008066c18>"
      ]
     },
     "metadata": {},
     "output_type": "display_data"
    }
   ],
   "source": [
    "pyplot.plot(x, U[0,], color='#003366', ls='--', lw=3)\n",
    "pyplot.ylim(0,2.5);\n",
    "pyplot.xlabel('x', fontsize=16)  #x label\n",
    "pyplot.ylabel('densité[kg/m³]', fontsize=16) "
   ]
  },
  {
   "cell_type": "markdown",
   "metadata": {
    "collapsed": true
   },
   "source": [
    "## Conclusion\n",
    "Nous avons donc vérifié l'efficacité et le bien fondé de l'algorithme de Richmyer, et observé le comportement du tube à choc de Sod en utilisant le modèle proposé."
   ]
  }
 ],
 "metadata": {
  "anaconda-cloud": {},
  "kernelspec": {
   "display_name": "Python [Root]",
   "language": "python",
   "name": "Python [Root]"
  },
  "language_info": {
   "codemirror_mode": {
    "name": "ipython",
    "version": 3
   },
   "file_extension": ".py",
   "mimetype": "text/x-python",
   "name": "python",
   "nbconvert_exporter": "python",
   "pygments_lexer": "ipython3",
   "version": "3.4.5"
  }
 },
 "nbformat": 4,
 "nbformat_minor": 1
}
