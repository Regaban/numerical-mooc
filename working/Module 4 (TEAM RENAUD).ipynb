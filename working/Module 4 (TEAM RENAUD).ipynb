{
 "cells": [
  {
   "cell_type": "markdown",
   "metadata": {},
   "source": [
    "Equations de départ\n",
    "\n",
    "$$\\frac{\\delta u}{\\delta t}=D_u\\nabla^2u-uv^2+F(1-u)$$\n",
    "$$\\frac{\\delta v}{\\delta t}=D_v\\nabla^2v+uv^2-(F+k)v$$"
   ]
  },
  {
   "cell_type": "markdown",
   "metadata": {},
   "source": [
    "Equation discrétisée\n",
    "\n",
    "$\\frac{u^{n+1}_{i,j}-u^{n}_{i,j}}{\\Delta t}=D_u(\\frac{u^{n}_{i+1,j}-2u^{n}_{i,j}+u^{n}_{i-1,j}}{\\Delta x^2}+\\frac{u^{n}_{i,j+1}-2u^{n}_{i,j}+u^{n}_{i,j-1}}{\\Delta y^2})-u^{n}_{i,j}(v^{n}_{i,j})^2+F(1-u^{n}_{i,j})\n",
    "\\\\\n",
    "\\frac{v^{n+1}_{i,j}-v^{n}_{i,j}}{\\Delta t}=D_v(\\frac{v^{n}_{i+1,j}-2v^{n}_{i,j}+v^{n}_{i-1,j}}{\\Delta x^2}+\\frac{v^{n}_{i,j+1}-2v^{n}_{i,j}+v^{n}_{i,j-1}}{\\Delta y^2})+u^{n}_{i,j}(v^{n}_{i,j})^2-(F+k)v^{n}_{i,j}$"
   ]
  },
  {
   "cell_type": "markdown",
   "metadata": {},
   "source": [
    "On met ce qu'on ne connait pas a gauche et ce qu'on connait a droite et en utilisant le fait que $\\Delta x=\\Delta y=\\delta$"
   ]
  },
  {
   "cell_type": "markdown",
   "metadata": {},
   "source": [
    "$u^{n+1}_{i,j}=u^{n}_{i,j}+D_u\\frac{\\Delta t}{\\delta^2}(u^{n}_{i+1,j}+u^{n}_{i-1,j}+u^{n}_{i,j+1}+u^{n}_{i,j-1}-4u^{n}_{i,j})-\\Delta t( u^{n}_{i,j}(v^{n}_{i,j})^2+F(1-u^{n}_{i,j}))$\n",
    "\n",
    "$v^{n+1}_{i,j}=v^{n}_{i,j}+D_v\\frac{\\Delta t}{\\delta^2}(v^{n}_{i+1,j}+v^{n}_{i-1,j}+v^{n}_{i,j+1}+v^{n}_{i,j-1}-4v^{n}_{i,j})+\\Delta t( u^{n}_{i,j}(v^{n}_{i,j})^2-(F+k)v^{n}_{i,j})$"
   ]
  },
  {
   "cell_type": "code",
   "execution_count": 13,
   "metadata": {
    "collapsed": false
   },
   "outputs": [],
   "source": [
    "import numpy\n",
    "from matplotlib import pyplot\n",
    "import matplotlib.cm as cm\n",
    "%matplotlib inline"
   ]
  },
  {
   "cell_type": "markdown",
   "metadata": {},
   "source": [
    "Conditions initiales"
   ]
  },
  {
   "cell_type": "code",
   "execution_count": 14,
   "metadata": {
    "collapsed": true
   },
   "outputs": [],
   "source": [
    "n = 192\n",
    "Du, Dv, F, k = 0.00016, 0.00008, 0.035, 0.065\n",
    "delta = 5./(n-1)\n",
    "T = 8000\n",
    "dt = 9 * delta**2 / (40*max(Du,Dv))\n",
    "nt = int(T/dt)"
   ]
  },
  {
   "cell_type": "markdown",
   "metadata": {},
   "source": [
    "On importe le fichier téléchargé, avec les conditions initiales pour U et V"
   ]
  },
  {
   "cell_type": "code",
   "execution_count": 15,
   "metadata": {
    "collapsed": true
   },
   "outputs": [],
   "source": [
    "uvinitial = numpy.load('uvinitial.npz')\n",
    "U = uvinitial['U']\n",
    "V = uvinitial['V']"
   ]
  },
  {
   "cell_type": "code",
   "execution_count": 19,
   "metadata": {
    "collapsed": false
   },
   "outputs": [
    {
     "ename": "SyntaxError",
     "evalue": "invalid syntax (<ipython-input-19-1bf84abc198e>, line 7)",
     "output_type": "error",
     "traceback": [
      "\u001b[1;36m  File \u001b[1;32m\"<ipython-input-19-1bf84abc198e>\"\u001b[1;36m, line \u001b[1;32m7\u001b[0m\n\u001b[1;33m    U[-1,:] = U[-2,:] # Neumann\u001b[0m\n\u001b[1;37m    ^\u001b[0m\n\u001b[1;31mSyntaxError\u001b[0m\u001b[1;31m:\u001b[0m invalid syntax\n"
     ]
    }
   ],
   "source": [
    "def ftcs(U, V, nt, Du, Dv, F, k, dt, delta):\n",
    "    \n",
    "    for n in range(nt):\n",
    "        Un=U.copy()\n",
    "        U[1:-1,1:-1] = Un[1:-1,1:-1] + (2*Du*dt/delta**2)*\\\n",
    "            (Un[2:,1:-1] + Un[:-2,1:-1] + Un[1:-1,2:] + Un[1:-1,-2] -\\\n",
    "             4*Un[1:-1,1:-1]) -\\\n",
    "             dt*(Un[1:-1,1:-1]*(Vn[1:-1,1:-1]**2) + F*(1-Un[1:-1,1:-1])\n",
    "            \n",
    "        U[-1,:] = U[-2,:] # Neumann\n",
    "        U[:,-1] = U[:,-2]\n",
    "        U[1,:] = U[2,:]\n",
    "        U[:,1] = U[:,2]\n",
    "                 \n",
    "        Vn=V.copy()\n",
    "        V[1:-1,1:-1] = Vn[1:-1,1:-1] + (2*Dv*dt/delta**2)*\\\n",
    "            (Vn[2:,1:-1] + Vn[:-2,1:-1] + Vn[1:-1,2:] + Vn[1:-1,-2] -\\\n",
    "             4*Vn[1:-1,1:-1]) +\\\n",
    "             dt*(Un[1:-1,1:-1]*(Vn[1:-1,1:-1]**2) - (F+k)*(Vn[1:-1,1:-1]))\n",
    "            \n",
    "        V[-1,:] = V[-2,:]\n",
    "        V[:,-1] = V[:,-2]\n",
    "        V[1,:] = V[2,:]\n",
    "        V[:,1] = V[:,2]\n",
    "                 \n",
    "    return U\n"
   ]
  },
  {
   "cell_type": "code",
   "execution_count": 21,
   "metadata": {
    "collapsed": false
   },
   "outputs": [
    {
     "ename": "NameError",
     "evalue": "name 'ftcs' is not defined",
     "output_type": "error",
     "traceback": [
      "\u001b[1;31m---------------------------------------------------------------------------\u001b[0m",
      "\u001b[1;31mNameError\u001b[0m                                 Traceback (most recent call last)",
      "\u001b[1;32m<ipython-input-21-4e4274f45221>\u001b[0m in \u001b[0;36m<module>\u001b[1;34m()\u001b[0m\n\u001b[1;32m----> 1\u001b[1;33m \u001b[0mftcs\u001b[0m\u001b[1;33m(\u001b[0m\u001b[0mU\u001b[0m\u001b[1;33m,\u001b[0m\u001b[0mV\u001b[0m\u001b[1;33m,\u001b[0m\u001b[0mnt\u001b[0m\u001b[1;33m,\u001b[0m\u001b[0mDu\u001b[0m\u001b[1;33m,\u001b[0m\u001b[0mDv\u001b[0m\u001b[1;33m,\u001b[0m\u001b[0mF\u001b[0m\u001b[1;33m,\u001b[0m\u001b[0mk\u001b[0m\u001b[1;33m,\u001b[0m\u001b[0mdt\u001b[0m\u001b[1;33m,\u001b[0m\u001b[0mdelta\u001b[0m\u001b[1;33m)\u001b[0m\u001b[1;33m\u001b[0m\u001b[0m\n\u001b[0m",
      "\u001b[1;31mNameError\u001b[0m: name 'ftcs' is not defined"
     ]
    }
   ],
   "source": [
    "ftcs(U,V,nt,Du,Dv,F,k,dt,delta)"
   ]
  },
  {
   "cell_type": "code",
   "execution_count": null,
   "metadata": {
    "collapsed": true
   },
   "outputs": [],
   "source": []
  }
 ],
 "metadata": {
  "anaconda-cloud": {},
  "kernelspec": {
   "display_name": "Python [Root]",
   "language": "python",
   "name": "Python [Root]"
  },
  "language_info": {
   "codemirror_mode": {
    "name": "ipython",
    "version": 3
   },
   "file_extension": ".py",
   "mimetype": "text/x-python",
   "name": "python",
   "nbconvert_exporter": "python",
   "pygments_lexer": "ipython3",
   "version": "3.4.5"
  }
 },
 "nbformat": 4,
 "nbformat_minor": 0
}
