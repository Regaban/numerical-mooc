{
 "cells": [
  {
   "cell_type": "markdown",
   "metadata": {},
   "source": [
    "# Module 1 : Rocket Flight\n",
    "\n",
    "Nous étudions le mouvement d'une fusée lancée verticalement et qui retombe au sol. Soient $h$ son altitude en mètres et $v$ sa vitesse en mètres/secondes.\n",
    "\n",
    "Les équations que nous allons résoudre numériquement sont $(*)$ :\n",
    "\n",
    "$$\\frac{dh}{dt}=v$$\n",
    "$$\\frac{dv}{dt}=-g+\\frac{\\dot{m}_{p}v_e-{\\frac{1}{2}\\rho}v|v|AC_D}{(m_s+m_p)}$$\n",
    "\n",
    "où : $$m_p=m_{p_0}-\\int_0^t\\dot{m_p}d\\tau$$\n",
    "\n",
    "est la masse de carburant présent dans la fusée. Les autres variables et constantes utilisées sont définies plus loin.\n",
    "\n",
    "Commençons par importer deux packages qui nous seront utiles plus tard : numpy pour certaines opérations sur les tableaux, et le module pyplot de mathplotlib qui nous permettra de représenter des fonctions graphiquement."
   ]
  },
  {
   "cell_type": "code",
   "execution_count": 246,
   "metadata": {
    "collapsed": false,
    "scrolled": true
   },
   "outputs": [],
   "source": [
    "import numpy \n",
    "from matplotlib import pyplot\n",
    "%matplotlib inline "
   ]
  },
  {
   "cell_type": "markdown",
   "metadata": {},
   "source": [
    "Implémentons les constantes qui seront utilisées dans les calculs."
   ]
  },
  {
   "cell_type": "code",
   "execution_count": 247,
   "metadata": {
    "collapsed": false
   },
   "outputs": [],
   "source": [
    "r = 0.5 # (m) Rayon de la section d'aire la plus grande de la fusée\n",
    "m_s = 50 # (kg) Masse de la fusée sans carburant\n",
    "g = 9.81 # (m/s²) Accélération de la pesanteur\n",
    "rho = 1.091 # (kg/m³) Densité de l'air moyenne, supposée constante sur la trajectoire \n",
    "A = numpy.pi*(r**2) # (m²) Aire de la tranche la plus large de la fusée\n",
    "v_e = 325 # (m/s) Vitesse d'éjection du carburant\n",
    "C_D = 0.15 # Coefficient de trainée\n",
    "m_p0 = 100 # (kg) Masse du carburant au lancement (en t=0)\n",
    "h_0 = 0 \n",
    "v_0 = 0 # On se place dans un référentiel tel que la fusée part d'une altitude h = 0m et à une vitesse v = 0m/s."
   ]
  },
  {
   "cell_type": "markdown",
   "metadata": {},
   "source": [
    "\n",
    "\n",
    "Soit au départ $u$ un tableau à deux colonnes, où $u_0=h$ et $u_1=v$. Nous nommons la première colonne du vecteur \"0\" et la seconde \"1\" dans python. Cela signifie donc que la première colonne de $u$ contiendra des valeurs de l'altitude de la fusée et la seconde des valeurs de sa vitesse. \n",
    "\n",
    "Écrivons pour simplifier $u$ de cette manière :\n",
    "\n",
    "$$u=\\begin{pmatrix}\n",
    "   h  \\\\\n",
    "   v  \n",
    "\\end{pmatrix}$$\n",
    "\n",
    "Nous créons ensuite une fonction $f$ qui enverra chaque composante de $u$ sur sa dérivée temporelle\n",
    "$$f:u=\\begin{pmatrix}\n",
    "   h  \\\\\n",
    "   v  \n",
    "\\end{pmatrix} \\rightarrow \\begin{pmatrix}\n",
    "   h'  \\\\\n",
    "   v'  \n",
    "\\end{pmatrix}$$\n",
    "\n",
    "Ou, avec $(*)$ :\n",
    "\n",
    "$$f:u=\\begin{pmatrix}\n",
    "   h  \\\\\n",
    "   v  \n",
    "\\end{pmatrix} \\rightarrow \\begin{pmatrix}\n",
    "   v  \\\\\n",
    "   -g+\\frac{\\dot{m}_{p}v_e-{\\frac{1}{2}\\rho}v|v|AC_D}{(m_s+m_p)}  \n",
    "\\end{pmatrix}$$\n",
    "\n",
    "$f$ nous servira dans la méthode d'Euler."
   ]
  },
  {
   "cell_type": "code",
   "execution_count": 248,
   "metadata": {
    "collapsed": false
   },
   "outputs": [],
   "source": [
    "def f(u):\n",
    "        \n",
    "    h = u[0]\n",
    "    v = u[1]\n",
    "    \n",
    "    return numpy.array([v,(-g) + ((mdot*v_e)-(1/2)*rho*v*abs(v)*A*C_D)/(m_s + m_p)])"
   ]
  },
  {
   "cell_type": "markdown",
   "metadata": {},
   "source": [
    "Ici nous allons définir la fonction \"euler_step\" définie comme suit :\n",
    "$$euler\\_step:(u,f,dt)\\rightarrow u+f(u)dt= \\begin{pmatrix}\n",
    "   h  \\\\\n",
    "   v  \n",
    "\\end{pmatrix} + \\begin{pmatrix}\n",
    "   v  \\\\\n",
    "   -g+\\frac{\\dot{m}_{p}v_e-{\\frac{1}{2}\\rho}v|v|AC_D}{(m_s+m_p)}  \n",
    "\\end{pmatrix}dt$$"
   ]
  },
  {
   "cell_type": "code",
   "execution_count": 249,
   "metadata": {
    "collapsed": true
   },
   "outputs": [],
   "source": [
    "def euler_step(u, f, dt):\n",
    "    return u + (dt * f(u))"
   ]
  },
  {
   "cell_type": "markdown",
   "metadata": {},
   "source": [
    "Nous attribuons a la valeur $dt$ le pas temporel à utiliser dans l'algorithme d'Euler, donné dans l'énoncé par $dt$ = 0,1$s$. \n",
    "\n",
    "A présent, il nous faut estimer le nombre d'itération que nous allons réaliser avec notre fonction euler_step. Une fois que la fusée se sera écrasée, il n'y aura plus rien d'intéressant à mesurer, donc nous allons tenter d'obtenir une estimation supérieure de sa durée de vol.\n",
    "\n",
    "...\n",
    "\n",
    "On utilise donc T=60 pour la suite.\n",
    "\n"
   ]
  },
  {
   "cell_type": "code",
   "execution_count": 250,
   "metadata": {
    "collapsed": false
   },
   "outputs": [],
   "source": [
    "T = 60\n",
    "dt = 0.1\n",
    "N = int(T/dt)+1\n",
    "t = numpy.linspace(0, T, N)"
   ]
  },
  {
   "cell_type": "markdown",
   "metadata": {},
   "source": [
    "Rappelons que la masse du carburant $m_p$ dépend du temps et est donnée par cette expression :\n",
    "$$m_p=m_{p_0}-\\int_0^t\\dot{m_p}d\\tau$$\n",
    "\n",
    "La dérivée $\\dot{m}_p$ n'est pas continue, nous distinguons deux cas :\n",
    "\n",
    "   - pour n < 50 ($\\Leftrightarrow$ t < 5) :\n",
    "   $$\\dot{m_p}=20$$\n",
    "$$\\Rightarrow m_p=m_{p_0}-\\int_0^t\\dot{m_p}d\\tau=m_{p_0}-20t$$\n",
    "\n",
    "On voit que $\\int_0^5\\dot{m_p}d\\tau=100$ $(**)$\n",
    "\n",
    "Donc :\n",
    "\n",
    "\n",
    "\n",
    "   - pour n > 50 ($\\Leftrightarrow$ t > 5) :\n",
    "   $$\\dot{m_p}=0$$\n",
    "$$\\Rightarrow \\int_5^t\\dot{m_p}d\\tau=0$$\n",
    "$$(**)\\Rightarrow m_p=m_{p_0}-\\int_0^5\\dot{m_p}d\\tau-\\int_5^t\\dot{m_p}d\\tau=m_{p_0}-100$$   \n",
    "\n"
   ]
  },
  {
   "cell_type": "markdown",
   "metadata": {},
   "source": [
    "Appliquons maintenant la fonction \"euler_step\" à notre $u$. Cela nous permettra d'obtenir analytiquement les valeurs de l'altitude et de la vitesse de la fusée après chaque itération de la méthode d'Euler."
   ]
  },
  {
   "cell_type": "code",
   "execution_count": 251,
   "metadata": {
    "collapsed": false
   },
   "outputs": [],
   "source": [
    "u = numpy.empty((N, 2)) # On prépare un tableau de N=601 lignes et de 2 colonnes\n",
    "u[0] = numpy.array([h_0, v_0]) # On initialise la première ligne de ce tableau \n",
    "\n",
    "# La seule donnée qui varie au cours du temps dans nos calculs de h et de v est m_p, il nous faut donc appliquer \n",
    "# une boucle for sur cette variable.\n",
    "\n",
    "for n in range(N-1): # n va de 0 à N-1 et est le nombre d'itérations de euler_step\n",
    "    if n<50 :\n",
    "        mdot = 20 # La perte de masse est constante en t<5 et donc en n<50\n",
    "        m_p = m_p0 - mdot*0.1*n\n",
    "    else : \n",
    "        mdot = 0 # Il n'y a plus de carburant après t=5 secondes\n",
    "        m_p = m_p0 - 100 # Donc m_p = 0\n",
    "    \n",
    "    u[n+1] = euler_step(u[n], f, dt)"
   ]
  },
  {
   "cell_type": "markdown",
   "metadata": {},
   "source": [
    "On obtient donc un tableau de 601 lignes et 2 colonnes avec la valeur de h et v toutes les 0,1s comme lignes."
   ]
  },
  {
   "cell_type": "code",
   "execution_count": 252,
   "metadata": {
    "collapsed": false
   },
   "outputs": [
    {
     "name": "stdout",
     "output_type": "stream",
     "text": [
      "[[  0.00000000e+00   0.00000000e+00]\n",
      " [  0.00000000e+00   3.35233333e+00]\n",
      " [  3.35233333e-01   6.76273724e+00]\n",
      " ..., \n",
      " [ -1.97958597e+03  -8.73559240e+01]\n",
      " [ -1.98832156e+03  -8.73561010e+01]\n",
      " [ -1.99705717e+03  -8.73562741e+01]]\n"
     ]
    }
   ],
   "source": [
    "print(u)"
   ]
  },
  {
   "cell_type": "markdown",
   "metadata": {},
   "source": [
    "On voit que les dernières valeurs sont négatives. C'est donc la preuve que notre T était estimé suffisamment haut pour que nous ayons les données de l'atterrissage de notre fusée."
   ]
  },
  {
   "cell_type": "markdown",
   "metadata": {},
   "source": [
    "# Questions du module"
   ]
  },
  {
   "cell_type": "markdown",
   "metadata": {},
   "source": [
    "# - Remaining fuel"
   ]
  },
  {
   "cell_type": "markdown",
   "metadata": {},
   "source": [
    "- At time $t=3.2s$, what is the mass (in kg) of rocket propellant remaining in the rocket?"
   ]
  },
  {
   "cell_type": "code",
   "execution_count": 253,
   "metadata": {
    "collapsed": false
   },
   "outputs": [
    {
     "name": "stdout",
     "output_type": "stream",
     "text": [
      "36.0 kilogrammes\n"
     ]
    }
   ],
   "source": [
    "tt = 3.2\n",
    "m_p = m_p0 - 20*tt # Explicité plus haut\n",
    "\n",
    "print(m_p, \"kilogrammes\")"
   ]
  },
  {
   "cell_type": "markdown",
   "metadata": {},
   "source": [
    "# - Maximum velocity"
   ]
  },
  {
   "cell_type": "markdown",
   "metadata": {},
   "source": [
    "- What is the maximum speed of the rocket in $\\frac{m}{s}$? (Answer to 2 decimal places)\n",
    "- At what time does this occur (in seconds)? (Answer to 2 decimal places)\n",
    "- What is the altitude at this time (in meters)? (Answer to 2 decimal places)"
   ]
  },
  {
   "cell_type": "code",
   "execution_count": 254,
   "metadata": {
    "collapsed": false
   },
   "outputs": [
    {
     "name": "stdout",
     "output_type": "stream",
     "text": [
      "Vitesse maximale de la fusée : 232.106133413 mètres/seconde\n",
      "Temps écoulé avant d'atteindre cette vitesse : 5.0 secondes\n",
      "La fusée se trouve alors à 523.522834292 mètres d'altitude\n"
     ]
    }
   ],
   "source": [
    "p = 0\n",
    "while u[p+1,1] > u[p,1]: \n",
    "    p = p+1 # On applique la boucle tant que la vitesse est supérieure à la précédente\n",
    "    \n",
    "print(\"Vitesse maximale de la fusée :\", u[p,1], \"mètres/seconde\") # C'est la dernière vitesse à être plus grande \n",
    "                                                                  # que la précédente, donc la vitesse maximale\n",
    "    \n",
    "print(\"Temps écoulé avant d'atteindre cette vitesse :\", p/10, \"secondes\") # t = 0,1p\n",
    "\n",
    "print(\"La fusée se trouve alors à\", u[p,0], \"mètres d'altitude\") # C'est l'altitude à la même ligne que la vitesse\n",
    "                                                                 # maximale dans le tableau u"
   ]
  },
  {
   "cell_type": "markdown",
   "metadata": {},
   "source": [
    "# - Maximum height"
   ]
  },
  {
   "cell_type": "markdown",
   "metadata": {},
   "source": [
    "- What is the rocket's maximum altitude during flight (in meters)? (Answer to 2 decimal places)\n",
    "- At what time (in seconds) does this occur? (Answer to 2 decimal places):"
   ]
  },
  {
   "cell_type": "code",
   "execution_count": 255,
   "metadata": {
    "collapsed": false
   },
   "outputs": [
    {
     "name": "stdout",
     "output_type": "stream",
     "text": [
      "Altitude maximale de la fusée : 1334.18294543 mètres\n",
      "Temps écoulé pour arriver à cette altitude :  15.7 secondes\n"
     ]
    }
   ],
   "source": [
    "n = 1 # En n=0, la vitesse est nulle et donc pas > 0\n",
    "while u[n+1,0] > u[n,0]: # \n",
    "    n = n+1 # De la même manière qu'à la question précédente\n",
    "    \n",
    "print(\"Altitude maximale de la fusée :\", u[n,0], \"mètres\") # L'altitude maximale est la dernière pour laquelle\n",
    "                                                               # la vitesse est positive\n",
    "    \n",
    "print(\"Temps écoulé pour arriver à cette altitude : \", n/10, \"secondes\") # t = 0,1n"
   ]
  },
  {
   "cell_type": "markdown",
   "metadata": {},
   "source": [
    "# - Impact"
   ]
  },
  {
   "cell_type": "markdown",
   "metadata": {},
   "source": [
    "- At what time (in seconds) does the rocket impact the ground? (Answer to 2 decimal places)\n",
    "- What is the velocity of the rocket (in ms) at time of impact? (Answer to 2 decimal places)"
   ]
  },
  {
   "cell_type": "code",
   "execution_count": 256,
   "metadata": {
    "collapsed": false
   },
   "outputs": [
    {
     "name": "stdout",
     "output_type": "stream",
     "text": [
      "[ 0.  0.]\n",
      "[ 0.          3.35233333]\n"
     ]
    }
   ],
   "source": [
    "print(u[0])\n",
    "print(u[1]) # Nous expliquons juste après pourquoi nous faisons ça."
   ]
  },
  {
   "cell_type": "code",
   "execution_count": 257,
   "metadata": {
    "collapsed": false
   },
   "outputs": [
    {
     "name": "stdout",
     "output_type": "stream",
     "text": [
      "Temps écoulé lorsque la fusée s'écrase : 37.1 secondes\n",
      "Vitesse de la fusée lorsqu'elle s'écrase :  -86.0068349838 mètres/seconde\n"
     ]
    }
   ],
   "source": [
    "l=2 # L'altitude est nulle aux 2 premières lignes de u comme montré ci-dessus. Commencer à l=2 empêcherait notre \n",
    "    # boucle while de fonctionner\n",
    "while u[l,0] > 0:\n",
    "    l=l+1  \n",
    "    \n",
    "print(\"Temps écoulé lorsque la fusée s'écrase :\", l/10, \"secondes\") # t = 0,1l\n",
    "\n",
    "print(\"Vitesse de la fusée lorsqu'elle s'écrase : \", u[l,1], \"mètres/seconde\") # La vitesse lorsque la fusée\n",
    "                                                                               # s'écrase est sur la même ligne que\n",
    "                                                                               # la dernière altitude positive"
   ]
  },
  {
   "cell_type": "markdown",
   "metadata": {},
   "source": [
    "# Graphique"
   ]
  },
  {
   "cell_type": "markdown",
   "metadata": {},
   "source": [
    "Insérons le graphique de l'altitude de la fusée en fonction du temps écoulé. Ceci nous permet de vérifier graphiquement que nous réponses obtenues précédemment sont correctes."
   ]
  },
  {
   "cell_type": "code",
   "execution_count": 263,
   "metadata": {
    "collapsed": false
   },
   "outputs": [],
   "source": [
    "temps = t\n",
    "altitude = u[:,0]"
   ]
  },
  {
   "cell_type": "code",
   "execution_count": 264,
   "metadata": {
    "collapsed": false
   },
   "outputs": [
    {
     "data": {
      "image/png": "[encoded data removed]",
      "text/plain": [
       "<matplotlib.figure.Figure at 0x7fa03f9c6da0>"
      ]
     },
     "metadata": {},
     "output_type": "display_data"
    }
   ],
   "source": [
    "pyplot.figure(figsize=(8,6))\n",
    "pyplot.grid(True)\n",
    "pyplot.xlabel(r'temps', fontsize=18)\n",
    "pyplot.ylabel(r'altitude', fontsize=18)\n",
    "pyplot.title('Altitude de la fusée, durée de vol = %.2f' % 60, fontsize=18)\n",
    "pyplot.plot(a,b, 'k-', lw=2);"
   ]
  },
  {
   "cell_type": "markdown",
   "metadata": {},
   "source": [
    "On vérifie bien que :\n",
    "\n",
    "  1) L'abscisse du point d'inflexion correspondant au moment où la vitesse devient décroissante est bien t = 5\n",
    "  \n",
    "  2) L'ordonnée de ce point est bien légèrement au-dessus de h = 500\n",
    "  \n",
    "  3) Le maximum de cette fonction est bien aux alentours de h = 1350\n",
    "  \n",
    "  4) L'abscisse correspondante est bien aux alentours de t = 15\n",
    "  \n",
    "  5) Enfin, la fusée atteint bien h = 0 aux alentours de t = 37"
   ]
  },
  {
   "cell_type": "code",
   "execution_count": null,
   "metadata": {
    "collapsed": true
   },
   "outputs": [],
   "source": []
  }
 ],
 "metadata": {
  "anaconda-cloud": {},
  "kernelspec": {
   "display_name": "Python [Root]",
   "language": "python",
   "name": "Python [Root]"
  },
  "language_info": {
   "codemirror_mode": {
    "name": "ipython",
    "version": 3
   },
   "file_extension": ".py",
   "mimetype": "text/x-python",
   "name": "python",
   "nbconvert_exporter": "python",
   "pygments_lexer": "ipython3",
   "version": "3.4.5"
  }
 },
 "nbformat": 4,
 "nbformat_minor": 0
}
